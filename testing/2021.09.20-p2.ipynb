{
 "cells": [
  {
   "cell_type": "code",
   "execution_count": 1,
   "source": [
    "# while loops\r\n",
    "\r\n",
    "def print_entries(x: list):\r\n",
    "    i = 0\r\n",
    "    while i < len(x):\r\n",
    "        print(x[i])\r\n",
    "        i += 1\r\n",
    "        \r\n",
    "print_entries([1, 2, 3, 4, 5, 6])"
   ],
   "outputs": [
    {
     "output_type": "stream",
     "name": "stdout",
     "text": [
      "1\n",
      "2\n",
      "3\n",
      "4\n",
      "5\n",
      "6\n"
     ]
    }
   ],
   "metadata": {}
  },
  {
   "cell_type": "code",
   "execution_count": 7,
   "source": [
    "from random import randint\r\n",
    "\r\n",
    "def snake_eyes():\r\n",
    "    doubles = False\r\n",
    "    \r\n",
    "    while not doubles:\r\n",
    "        dice_1, dice_2 = (randint(1, 6), randint(1, 6))\r\n",
    "        print(f'1d6 = {dice_1}, 1d6 = {dice_2}')\r\n",
    "        if dice_1 == dice_2:\r\n",
    "            if dice_1 == 6:\r\n",
    "                print('Boxcars!')\r\n",
    "            elif dice_2 == 1:\r\n",
    "                print('Snake eyes!')\r\n",
    "            doubles = True\r\n",
    "\r\n",
    "snake_eyes()\r\n"
   ],
   "outputs": [
    {
     "output_type": "stream",
     "name": "stdout",
     "text": [
      "1d6 = 6, 1d6 = 3\n",
      "1d6 = 3, 1d6 = 6\n",
      "1d6 = 4, 1d6 = 2\n",
      "1d6 = 5, 1d6 = 2\n",
      "1d6 = 1, 1d6 = 2\n",
      "1d6 = 6, 1d6 = 5\n",
      "1d6 = 4, 1d6 = 1\n",
      "1d6 = 2, 1d6 = 3\n",
      "1d6 = 4, 1d6 = 5\n",
      "1d6 = 2, 1d6 = 6\n",
      "1d6 = 4, 1d6 = 2\n",
      "1d6 = 1, 1d6 = 3\n",
      "1d6 = 5, 1d6 = 6\n",
      "1d6 = 3, 1d6 = 2\n",
      "1d6 = 5, 1d6 = 6\n",
      "1d6 = 1, 1d6 = 5\n",
      "1d6 = 6, 1d6 = 6\n",
      "Boxcars!\n"
     ]
    }
   ],
   "metadata": {}
  },
  {
   "cell_type": "code",
   "execution_count": 9,
   "source": [
    "from random import randint\r\n",
    "\r\n",
    "def toss_coins():\r\n",
    "    heads = False\r\n",
    "    out = ''\r\n",
    "    while not heads:\r\n",
    "        coin = ['H', 'T'][randint(0, 1)]\r\n",
    "        out += coin\r\n",
    "        if out[-5:] == 'HHHHH':\r\n",
    "            heads = True\r\n",
    "        print(out)\r\n",
    "\r\n",
    "toss_coins()"
   ],
   "outputs": [
    {
     "output_type": "stream",
     "name": "stdout",
     "text": [
      "T\n",
      "TT\n",
      "TTH\n",
      "TTHT\n",
      "TTHTT\n",
      "TTHTTH\n",
      "TTHTTHT\n",
      "TTHTTHTH\n",
      "TTHTTHTHT\n",
      "TTHTTHTHTH\n",
      "TTHTTHTHTHT\n",
      "TTHTTHTHTHTT\n",
      "TTHTTHTHTHTTH\n",
      "TTHTTHTHTHTTHT\n",
      "TTHTTHTHTHTTHTH\n",
      "TTHTTHTHTHTTHTHT\n",
      "TTHTTHTHTHTTHTHTT\n",
      "TTHTTHTHTHTTHTHTTH\n",
      "TTHTTHTHTHTTHTHTTHH\n",
      "TTHTTHTHTHTTHTHTTHHH\n",
      "TTHTTHTHTHTTHTHTTHHHT\n",
      "TTHTTHTHTHTTHTHTTHHHTT\n",
      "TTHTTHTHTHTTHTHTTHHHTTH\n",
      "TTHTTHTHTHTTHTHTTHHHTTHH\n",
      "TTHTTHTHTHTTHTHTTHHHTTHHT\n",
      "TTHTTHTHTHTTHTHTTHHHTTHHTT\n",
      "TTHTTHTHTHTTHTHTTHHHTTHHTTH\n",
      "TTHTTHTHTHTTHTHTTHHHTTHHTTHH\n",
      "TTHTTHTHTHTTHTHTTHHHTTHHTTHHT\n",
      "TTHTTHTHTHTTHTHTTHHHTTHHTTHHTT\n",
      "TTHTTHTHTHTTHTHTTHHHTTHHTTHHTTH\n",
      "TTHTTHTHTHTTHTHTTHHHTTHHTTHHTTHT\n",
      "TTHTTHTHTHTTHTHTTHHHTTHHTTHHTTHTT\n",
      "TTHTTHTHTHTTHTHTTHHHTTHHTTHHTTHTTH\n",
      "TTHTTHTHTHTTHTHTTHHHTTHHTTHHTTHTTHT\n",
      "TTHTTHTHTHTTHTHTTHHHTTHHTTHHTTHTTHTT\n",
      "TTHTTHTHTHTTHTHTTHHHTTHHTTHHTTHTTHTTH\n",
      "TTHTTHTHTHTTHTHTTHHHTTHHTTHHTTHTTHTTHT\n",
      "TTHTTHTHTHTTHTHTTHHHTTHHTTHHTTHTTHTTHTH\n",
      "TTHTTHTHTHTTHTHTTHHHTTHHTTHHTTHTTHTTHTHH\n",
      "TTHTTHTHTHTTHTHTTHHHTTHHTTHHTTHTTHTTHTHHH\n",
      "TTHTTHTHTHTTHTHTTHHHTTHHTTHHTTHTTHTTHTHHHH\n",
      "TTHTTHTHTHTTHTHTTHHHTTHHTTHHTTHTTHTTHTHHHHH\n"
     ]
    }
   ],
   "metadata": {}
  },
  {
   "cell_type": "code",
   "execution_count": null,
   "source": [],
   "outputs": [],
   "metadata": {}
  }
 ],
 "metadata": {
  "orig_nbformat": 4,
  "language_info": {
   "name": "python",
   "version": "3.9.7",
   "mimetype": "text/x-python",
   "codemirror_mode": {
    "name": "ipython",
    "version": 3
   },
   "pygments_lexer": "ipython3",
   "nbconvert_exporter": "python",
   "file_extension": ".py"
  },
  "kernelspec": {
   "name": "python3",
   "display_name": "Python 3.9.7 64-bit"
  },
  "interpreter": {
   "hash": "57990f1ad2ea89c67ddae7f31d40c478205c5912da0fccfb7c5cfbb2b8bf17ad"
  }
 },
 "nbformat": 4,
 "nbformat_minor": 2
}