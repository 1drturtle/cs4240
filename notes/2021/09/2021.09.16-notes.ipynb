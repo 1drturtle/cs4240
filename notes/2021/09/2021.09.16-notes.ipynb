{
 "cells": [
  {
   "cell_type": "markdown",
   "source": [
    "# CS Notes 9/16\r\n",
    "\r\n",
    "`reversed` takes an iterator and reverses it.\r\n"
   ],
   "metadata": {}
  },
  {
   "cell_type": "code",
   "execution_count": 1,
   "source": [
    "x = 'hello'\r\n",
    "print(list(reversed(x)))"
   ],
   "outputs": [
    {
     "output_type": "stream",
     "name": "stdout",
     "text": [
      "['o', 'l', 'l', 'e', 'h']\n"
     ]
    }
   ],
   "metadata": {}
  },
  {
   "cell_type": "code",
   "execution_count": 2,
   "source": [
    "for i in reversed(range(1, 11)): # Print from 10 to 1.\r\n",
    "    print(i, end=' ')"
   ],
   "outputs": [
    {
     "output_type": "stream",
     "name": "stdout",
     "text": [
      "10 9 8 7 6 5 4 3 2 1 "
     ]
    }
   ],
   "metadata": {}
  },
  {
   "cell_type": "code",
   "execution_count": 3,
   "source": [
    "stuff = ['backpack', 'water bottle', 'bio tome', 'laptop']\r\n",
    "# enumerate returns iterable[index, object]\r\n",
    "for i, x in enumerate(stuff, start=1): # can start `i` at arbitrary indexes.\r\n",
    "    print(f'{i}. {x:^15}')"
   ],
   "outputs": [
    {
     "output_type": "stream",
     "name": "stdout",
     "text": [
      "1.    backpack    \n",
      "2.  water bottle  \n",
      "3.    bio tome    \n",
      "4.     laptop     \n"
     ]
    }
   ],
   "metadata": {}
  },
  {
   "cell_type": "code",
   "execution_count": 4,
   "source": [
    "# print file with line numbers\r\n",
    "with open('sample.txt') as fp:\r\n",
    "    for i, line in enumerate(fp, start=1):\r\n",
    "        print(f'{i}│ {line[:-1]}')"
   ],
   "outputs": [
    {
     "output_type": "stream",
     "name": "stdout",
     "text": [
      "1│ abc\n",
      "2│ def\n",
      "3│ ghi\n",
      "4│ jk\n"
     ]
    }
   ],
   "metadata": {}
  },
  {
   "cell_type": "markdown",
   "source": [
    "# Imports\r\n",
    "\r\n",
    "The `import` statement brings in other modules into the current stack.\r\n",
    "\r\n",
    "`from math import *` - \"intimate import\", only good for repl sessions\r\n",
    "\r\n",
    "`import math` - better import, stores all math functions under module name\r\n",
    "\r\n",
    "`import math as x` - similar to above, but allows you to import module as user-defined name.\r\n",
    "\r\n",
    "`from math import pi` - selective import, allows you to specify specific functions or classes for importing."
   ],
   "metadata": {}
  },
  {
   "cell_type": "code",
   "execution_count": 1,
   "source": [
    "def factorial(n):\r\n",
    "    if n in (0, 1):\r\n",
    "        return 1\r\n",
    "    return n * factorial(n - 1)\r\n",
    "\r\n",
    "print(factorial(100))"
   ],
   "outputs": [
    {
     "output_type": "stream",
     "name": "stdout",
     "text": [
      "93326215443944152681699238856266700490715968264381621468592963895217599993229915608941463976156518286253697920827223758251185210916864000000000000000000000000\n"
     ]
    }
   ],
   "metadata": {}
  }
 ],
 "metadata": {
  "orig_nbformat": 4,
  "language_info": {
   "name": "python",
   "version": "3.9.7",
   "mimetype": "text/x-python",
   "codemirror_mode": {
    "name": "ipython",
    "version": 3
   },
   "pygments_lexer": "ipython3",
   "nbconvert_exporter": "python",
   "file_extension": ".py"
  },
  "kernelspec": {
   "name": "python3",
   "display_name": "Python 3.9.7 64-bit"
  },
  "interpreter": {
   "hash": "57990f1ad2ea89c67ddae7f31d40c478205c5912da0fccfb7c5cfbb2b8bf17ad"
  }
 },
 "nbformat": 4,
 "nbformat_minor": 2
}