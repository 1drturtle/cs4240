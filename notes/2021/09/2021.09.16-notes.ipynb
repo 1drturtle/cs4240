{
 "cells": [
  {
   "cell_type": "markdown",
   "source": [
    "# CS Notes 9/16\r\n",
    "\r\n",
    "`reversed` takes an iterator and reverses it.\r\n"
   ],
   "metadata": {}
  },
  {
   "cell_type": "code",
   "execution_count": 1,
   "source": [
    "x = 'hello'\r\n",
    "print(list(reversed(x)))"
   ],
   "outputs": [
    {
     "output_type": "stream",
     "name": "stdout",
     "text": [
      "['o', 'l', 'l', 'e', 'h']\n"
     ]
    }
   ],
   "metadata": {}
  },
  {
   "cell_type": "code",
   "execution_count": 2,
   "source": [
    "for i in reversed(range(1, 11)): # Print from 10 to 1.\r\n",
    "    print(i, end=' ')"
   ],
   "outputs": [
    {
     "output_type": "stream",
     "name": "stdout",
     "text": [
      "10 9 8 7 6 5 4 3 2 1 "
     ]
    }
   ],
   "metadata": {}
  },
  {
   "cell_type": "code",
   "execution_count": 3,
   "source": [
    "stuff = ['backpack', 'water bottle', 'bio tome', 'laptop']\r\n",
    "# enumerate returns iterable[index, object]\r\n",
    "for i, x in enumerate(stuff, start=1): # can start `i` at arbitrary indexes.\r\n",
    "    print(f'{i}. {x:^15}')"
   ],
   "outputs": [
    {
     "output_type": "stream",
     "name": "stdout",
     "text": [
      "1.    backpack    \n",
      "2.  water bottle  \n",
      "3.    bio tome    \n",
      "4.     laptop     \n"
     ]
    }
   ],
   "metadata": {}
  },
  {
   "cell_type": "code",
   "execution_count": 4,
   "source": [
    "# print file with line numbers\r\n",
    "with open('sample.txt') as fp:\r\n",
    "    for i, line in enumerate(fp, start=1):\r\n",
    "        print(f'{i}│ {line[:-1]}')"
   ],
   "outputs": [
    {
     "output_type": "stream",
     "name": "stdout",
     "text": [
      "1│ abc\n",
      "2│ def\n",
      "3│ ghi\n",
      "4│ jk\n"
     ]
    }
   ],
   "metadata": {}
  },
  {
   "cell_type": "markdown",
   "source": [
    "# Imports\r\n",
    "\r\n",
    "The `import` statement brings in other modules into the current stack.\r\n",
    "\r\n",
    "`from math import *` - \"intimate import\", only good for repl sessions\r\n",
    "\r\n",
    "`import math` - better import, stores all math functions under module name\r\n",
    "\r\n",
    "`import math as x` - similar to above, but allows you to import module as user-defined name.\r\n",
    "\r\n",
    "`from math import pi` - selective import, allows you to specify specific functions or classes for importing."
   ],
   "metadata": {}
  },
  {
   "cell_type": "code",
   "execution_count": 4,
   "source": [
    "def factorial(n):\r\n",
    "    if n in (0, 1):\r\n",
    "        return 1\r\n",
    "    return n * factorial(n - 1)\r\n",
    "\r\n",
    "print(factorial(100))"
   ],
   "outputs": [
    {
     "output_type": "stream",
     "name": "stdout",
     "text": [
      "93326215443944152681699238856266700490715968264381621468592963895217599993229915608941463976156518286253697920827223758251185210916864000000000000000000000000\n"
     ]
    }
   ],
   "metadata": {}
  },
  {
   "cell_type": "code",
   "execution_count": 18,
   "source": [
    "# improved copy function\r\n",
    "\r\n",
    "def copy_file(donor, recipient):\r\n",
    "    with open(donor, 'r') as fp_in:\r\n",
    "        with open(recipient, 'w') as fp_out:\r\n",
    "            fp_out.write(fp_in.read())\r\n",
    "            \r\n",
    "# things that can go wrong:\r\n",
    "# - donor might not exist\r\n",
    "# - recipient might be overwritten\r\n",
    "\r\n",
    "from sys import argv\r\n",
    "import os\r\n",
    "\r\n",
    "# copy function with error checking\r\n",
    "def copy_file_checked(donor: str, recipient: str):\r\n",
    "    # stop if we don't have a donor\r\n",
    "    if not os.path.exists(donor):\r\n",
    "        print('Donor file does not exist, exiting')\r\n",
    "        return\r\n",
    "    # confirm before overwriting\r\n",
    "    if os.path.exists(recipient):\r\n",
    "        print(f'A file by the name of {recipient} already exists, do you wish to continue?')\r\n",
    "        x = input('(Yes/No): ')\r\n",
    "        if x.lower() not in 'yes':\r\n",
    "            print('Exiting.')\r\n",
    "            return\r\n",
    "        print('Confirmed, mangling file.')\r\n",
    "    with open(donor, 'r') as fp_in:\r\n",
    "        with open(recipient, 'w') as fp_out:\r\n",
    "            fp_out.write(fp_in.read())\r\n",
    "\r\n",
    "if len(argv) < 3:\r\n",
    "    print('Not enough arguments provided. Syntax: copy.py <donor> <recipient>')\r\n",
    "\r\n",
    "# doesn't work in jupyterlab\r\n",
    "# copy_file_checked(argv[1], argv[2])\r\n",
    "copy_file_checked('sample.txt', 'sample-2.txt')"
   ],
   "outputs": [
    {
     "output_type": "stream",
     "name": "stdout",
     "text": [
      "A file by the name of sample-2.txt already exists, do you wish to continue?\n",
      "Exiting.\n"
     ]
    }
   ],
   "metadata": {}
  },
  {
   "cell_type": "markdown",
   "source": [
    "## Indefinite Loops\r\n",
    "\r\n",
    "Indefinite loops, or infinite loops, are loops that do not have a defined ending."
   ],
   "metadata": {}
  },
  {
   "cell_type": "code",
   "execution_count": 22,
   "source": [
    "# classic number guessing game\r\n",
    "\r\n",
    "import random\r\n",
    "\r\n",
    "secret_number = random.randint(1, 100)\r\n",
    "guess = -1\r\n",
    "\r\n",
    "while guess != secret_number:\r\n",
    "    guess = int(input('Guess a number (1-100):'))\r\n",
    "    if guess == secret_number:\r\n",
    "        print(f'You guessed the number. It was {secret_number}!')\r\n",
    "    elif guess > secret_number:\r\n",
    "        print(f'Your guess ({guess}) was too big!')\r\n",
    "    elif guess < secret_number:\r\n",
    "        print(f'Your guess ({guess}) was too small!')\r\n"
   ],
   "outputs": [
    {
     "output_type": "stream",
     "name": "stdout",
     "text": [
      "Your guess (100) was too big!\n",
      "Your guess (50) was too big!\n",
      "Your guess (25) was too small!\n",
      "Your guess (38) was too small!\n",
      "Your guess (45) was too small!\n",
      "Your guess (48) was too big!\n",
      "You guessed the number. It was 46!\n"
     ]
    }
   ],
   "metadata": {}
  }
 ],
 "metadata": {
  "orig_nbformat": 4,
  "language_info": {
   "name": "python",
   "version": "3.9.7",
   "mimetype": "text/x-python",
   "codemirror_mode": {
    "name": "ipython",
    "version": 3
   },
   "pygments_lexer": "ipython3",
   "nbconvert_exporter": "python",
   "file_extension": ".py"
  },
  "kernelspec": {
   "name": "python3",
   "display_name": "Python 3.9.7 64-bit"
  },
  "interpreter": {
   "hash": "57990f1ad2ea89c67ddae7f31d40c478205c5912da0fccfb7c5cfbb2b8bf17ad"
  }
 },
 "nbformat": 4,
 "nbformat_minor": 2
}