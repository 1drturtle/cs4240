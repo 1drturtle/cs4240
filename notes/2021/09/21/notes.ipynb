{
 "cells": [
  {
   "cell_type": "markdown",
   "source": [
    "# Notes for 9/21\r\n",
    "\r\n",
    "- Created `word_count.py` which creates an output file of word frequency sorted by value and then alphabetically"
   ],
   "metadata": {}
  }
 ],
 "metadata": {
  "orig_nbformat": 4,
  "language_info": {
   "name": "python"
  }
 },
 "nbformat": 4,
 "nbformat_minor": 2
}