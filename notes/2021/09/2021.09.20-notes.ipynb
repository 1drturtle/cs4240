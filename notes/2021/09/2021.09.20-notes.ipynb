{
 "cells": [
  {
   "cell_type": "markdown",
   "source": [
    "## Hashing\r\n",
    "\r\n",
    "- Allows you to quickly retrieve things out of a container.\r\n",
    "- If a container is hashable, you can call the function `hash` to retrieve it's hash.\r\n",
    "- Numbers hash to themselves up to very large numbers.\r\n",
    "- Mutable items are __unhashable__ and will error if called `hash` on.\r\n"
   ],
   "metadata": {}
  },
  {
   "cell_type": "code",
   "execution_count": 14,
   "source": [
    "x = ('a', 'b')\r\n",
    "print(hash(x))\r\n",
    "y = 1_000_000_000_000\r\n",
    "print(hash(y))"
   ],
   "outputs": [
    {
     "output_type": "stream",
     "name": "stdout",
     "text": [
      "813276519451644522\n",
      "1000000000000\n"
     ]
    }
   ],
   "metadata": {}
  },
  {
   "cell_type": "markdown",
   "source": [
    "## Sets\r\n",
    "\r\n",
    "- Unordered container containing no duplicates\r\n",
    "- Big block of memory is used for sets\r\n",
    "- When an item is added to a set, the hash of that item is used to determine the index of the object in the block of memory."
   ],
   "metadata": {}
  },
  {
   "cell_type": "code",
   "execution_count": 27,
   "source": [
    "x = set()\r\n",
    "x.add('cat')\r\n",
    "print(x)"
   ],
   "outputs": [
    {
     "output_type": "stream",
     "name": "stdout",
     "text": [
      "{'cat'}\n"
     ]
    }
   ],
   "metadata": {}
  },
  {
   "cell_type": "markdown",
   "source": [
    "## Set unions and intersections\r\n",
    "\r\n",
    "- You can find the union of a set and the intersection of the set\r\n",
    "- The intersection finds the values that are in at least one\r\n",
    "- Union finds values that are in both\r\n",
    "- `symmetric_difference` find values that are unique in both sets"
   ],
   "metadata": {}
  },
  {
   "cell_type": "code",
   "execution_count": 6,
   "source": [
    "x = {1, 2, 3, 5}\r\n",
    "y = {3, 4, 6, 7, 8}\r\n",
    "print(x.union(y)) # equivalent to `x | y`\r\n",
    "print(x.intersection(y)) # 3 is in both, `x & y`\r\n",
    "print(x.symmetric_difference(y)) # union - intersection\r\n",
    "print(x.union(y) - x.intersection(y)) # same as above, use x ^ y for XOR"
   ],
   "outputs": [
    {
     "output_type": "stream",
     "name": "stdout",
     "text": [
      "{1, 2, 3, 4, 5, 6, 7, 8}\n",
      "{3}\n",
      "{1, 2, 4, 5, 6, 7, 8}\n",
      "{1, 2, 4, 5, 6, 7, 8}\n",
      "{1, 2, 3, 4, 5, 6, 7, 8}\n"
     ]
    }
   ],
   "metadata": {}
  },
  {
   "cell_type": "markdown",
   "source": [
    "## Dictionaries\r\n",
    "\r\n",
    "- Containers of key-value pairs.\r\n",
    "- Ordered since py3.6\r\n",
    "- Constructed by `{key: value}`\r\n",
    "- Key must be an immutable object, value can be any"
   ],
   "metadata": {}
  },
  {
   "cell_type": "code",
   "execution_count": 8,
   "source": [
    "x = {}\r\n",
    "x['hello'] = 'world'\r\n",
    "x['never'] = 'gonna'\r\n",
    "\r\n",
    "print(x)\r\n",
    "print(x.get('never'), x['never']) # two ways to get dict items"
   ],
   "outputs": [
    {
     "output_type": "stream",
     "name": "stdout",
     "text": [
      "{'hello': 'world', 'never': 'gonna'}\n",
      "gonna gonna\n"
     ]
    }
   ],
   "metadata": {}
  },
  {
   "cell_type": "code",
   "execution_count": 10,
   "source": [
    "# morrison moment\r\n",
    "# sample.txt: words seperated by spaces & new lines\r\n",
    "\r\n",
    "input_file_name = 'sample.txt'\r\n",
    "output_file_name = input_file_name + '.dump'\r\n",
    "items = {}\r\n",
    "with open(input_file_name, 'r') as fp:\r\n",
    "    for line in fp:\r\n",
    "        words = line.split()\r\n",
    "        for w in words:\r\n",
    "            items[w] = items.get(w, 0) + 1\r\n",
    "            \r\n",
    "with open(output_file_name, 'w') as fp:\r\n",
    "    for k,v in items.items():\r\n",
    "        fp.write(f'{k}: {v}\\n')"
   ],
   "outputs": [],
   "metadata": {}
  }
 ],
 "metadata": {
  "orig_nbformat": 4,
  "language_info": {
   "name": "python",
   "version": "3.9.7",
   "mimetype": "text/x-python",
   "codemirror_mode": {
    "name": "ipython",
    "version": 3
   },
   "pygments_lexer": "ipython3",
   "nbconvert_exporter": "python",
   "file_extension": ".py"
  },
  "kernelspec": {
   "name": "python3",
   "display_name": "Python 3.9.7 64-bit"
  },
  "interpreter": {
   "hash": "57990f1ad2ea89c67ddae7f31d40c478205c5912da0fccfb7c5cfbb2b8bf17ad"
  }
 },
 "nbformat": 4,
 "nbformat_minor": 2
}