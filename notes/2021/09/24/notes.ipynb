{
 "cells": [
  {
   "cell_type": "markdown",
   "source": [
    "# Binary Searching\r\n",
    "\r\n",
    "- Suppose `x = [1, 2, 7, 9, 16, 81, 125, 234, 998, 1001]`\r\n",
    "- Dumb way: Go through each element, `O(n)`\r\n",
    "- Go half-way through the list. Compare if the element is less than or greater than middle. If less, search through first half, otherwise search through second half. Repeat\r\n"
   ],
   "metadata": {}
  }
 ],
 "metadata": {
  "orig_nbformat": 4,
  "language_info": {
   "name": "python"
  }
 },
 "nbformat": 4,
 "nbformat_minor": 2
}