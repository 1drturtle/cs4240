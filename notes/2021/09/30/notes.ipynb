{
 "cells": [
  {
   "cell_type": "markdown",
   "source": [
    "# Sorting"
   ],
   "metadata": {}
  },
  {
   "cell_type": "code",
   "execution_count": null,
   "source": [
    "# Bozo Sort\r\n"
   ],
   "outputs": [],
   "metadata": {}
  },
  {
   "cell_type": "code",
   "execution_count": 12,
   "source": [
    "# Sorting Algorithm #1\r\n",
    "\r\n",
    "import random\r\n",
    "\r\n",
    "def swap(x, j, k):\r\n",
    "    if j != k:\r\n",
    "        x[j],x[k] = x[k],x[j]\r\n",
    "\r\n",
    "def is_in_order(x):\r\n",
    "    for k in range(0, len(x) - 1):\r\n",
    "        if x[k] > x[k + 1]:\r\n",
    "            return False\r\n",
    "    return True\r\n",
    "\r\n",
    "def faster(x):\r\n",
    "    seperator = 0\r\n",
    "    while seperator < len(x):\r\n",
    "        so_far = x[seperator]\r\n",
    "        idx = seperator\r\n",
    "        for k in range(seperator, len(x)):\r\n",
    "            if x[k] < so_far:\r\n",
    "                idx = k\r\n",
    "                so_far = x[idx]\r\n",
    "        swap(x, idx, seperator)\r\n",
    "        seperator += 1\r\n",
    "        \r\n",
    "def pagar23a(nums):\r\n",
    "    for i in range(len(nums)):\r\n",
    "        k = min(nums[i:])\r\n",
    "        indx = nums.index(k)\r\n",
    "        swap(nums,i,indx)\r\n",
    "\r\n",
    "n = 10000\r\n",
    "x = list(range(n))\r\n",
    "\r\n",
    "random.shuffle(x)\r\n",
    "# pagar23a(x)\r\n",
    "faster(x)\r\n",
    "\r\n",
    "print(x[:20])\r\n"
   ],
   "outputs": [
    {
     "output_type": "stream",
     "name": "stdout",
     "text": [
      "[0, 1, 2, 3, 4, 5, 6, 7, 8, 9, 10, 11, 12, 13, 14, 15, 16, 17, 18, 19]\n"
     ]
    }
   ],
   "metadata": {}
  },
  {
   "cell_type": "code",
   "execution_count": 16,
   "source": [
    "import random\r\n",
    "# sorting #2\r\n",
    "\r\n",
    "def swap(x, j, k):\r\n",
    "    if j != k:\r\n",
    "        x[j],x[k] = x[k],x[j]\r\n",
    "\r\n",
    "def sort_list(x: list):\r\n",
    "    pointer = len(x)\r\n",
    "    while pointer > 0:\r\n",
    "        working = x[:pointer]\r\n",
    "        for i in range(len(working) - 1):\r\n",
    "            if x[i] > x[i + 1]:\r\n",
    "                swap(x, i, i+1)\r\n",
    "        pointer -= 1\r\n",
    "\r\n",
    "x = list(range(1000))\r\n",
    "random.shuffle(x)\r\n",
    "\r\n",
    "print(x[:20])\r\n",
    "sort_list(x)\r\n",
    "print(x[:20])"
   ],
   "outputs": [
    {
     "output_type": "stream",
     "name": "stdout",
     "text": [
      "[87, 613, 632, 204, 688, 373, 827, 329, 255, 762, 544, 782, 154, 406, 981, 387, 44, 810, 789, 165]\n",
      "[0, 1, 2, 3, 4, 5, 6, 7, 8, 9, 10, 11, 12, 13, 14, 15, 16, 17, 18, 19]\n"
     ]
    }
   ],
   "metadata": {}
  },
  {
   "cell_type": "code",
   "execution_count": 20,
   "source": [
    "import random\r\n",
    "# sorting #3\r\n",
    "\r\n",
    "def swap(x, j, k):\r\n",
    "    if j != k:\r\n",
    "        x[j],x[k] = x[k],x[j]\r\n",
    "        \r\n",
    "        \r\n",
    "def sort_list(x: list):\r\n",
    "    pointer = 0\r\n",
    "    while pointer < len(x):\r\n",
    "        current = pointer\r\n",
    "        while current > 0:\r\n",
    "            if x[current] < x[current - 1]:\r\n",
    "                swap(x, current, (current - 1))\r\n",
    "            else:\r\n",
    "                break\r\n",
    "            current -= 1\r\n",
    "        \r\n",
    "        pointer += 1\r\n",
    "        \r\n",
    "x = list(range(1000))\r\n",
    "random.shuffle(x)\r\n",
    "print(x[:20])\r\n",
    "sort_list(x)\r\n",
    "print(x[:20])\r\n"
   ],
   "outputs": [
    {
     "output_type": "stream",
     "name": "stdout",
     "text": [
      "[294, 915, 689, 650, 637, 483, 466, 224, 629, 833, 798, 697, 784, 480, 89, 336, 95, 871, 8, 519]\n",
      "[0, 1, 2, 3, 4, 5, 6, 7, 8, 9, 10, 11, 12, 13, 14, 15, 16, 17, 18, 19]\n"
     ]
    }
   ],
   "metadata": {}
  }
 ],
 "metadata": {
  "orig_nbformat": 4,
  "language_info": {
   "name": "python",
   "version": "3.9.7",
   "mimetype": "text/x-python",
   "codemirror_mode": {
    "name": "ipython",
    "version": 3
   },
   "pygments_lexer": "ipython3",
   "nbconvert_exporter": "python",
   "file_extension": ".py"
  },
  "kernelspec": {
   "name": "python3",
   "display_name": "Python 3.9.7 64-bit"
  },
  "interpreter": {
   "hash": "57990f1ad2ea89c67ddae7f31d40c478205c5912da0fccfb7c5cfbb2b8bf17ad"
  }
 },
 "nbformat": 4,
 "nbformat_minor": 2
}