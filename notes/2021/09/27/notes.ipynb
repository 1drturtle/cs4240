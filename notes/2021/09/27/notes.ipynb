{
 "cells": [
  {
   "cell_type": "markdown",
   "source": [
    "# CS Notes 09/27\r\n",
    "\r\n",
    "## Root Finding\r\n",
    "\r\n",
    "- If a function f is continuous on an interval [a, b] and if f changes sign on that interval, then there is at least one root on the x-axis in [a, b].\r\n",
    "- Approximate the square root of 2. f(x) = x<sup>2</sup> = 2, f changes sign on [1, 2]\r\n",
    "- Divide & Conquer algorithm"
   ],
   "metadata": {}
  },
  {
   "cell_type": "code",
   "execution_count": 5,
   "source": [
    "def find_root(a, b, tol, f):\r\n",
    "    \"\"\"Find the root using a divide and conquer method within tolerance `tol` using the function f\r\n",
    "\r\n",
    "    Args:\r\n",
    "        a (int): [description]\r\n",
    "        b (int): [description]\r\n",
    "        tol (float): [description]\r\n",
    "        f (function): continuous function that changes sign on [a, b]\r\n",
    "    \"\"\"\r\n",
    "    while b - a > tol:\r\n",
    "        mid = (a + b) / 2\r\n",
    "    \r\n",
    "        if f(a) * f(mid) < 0:  # sign change\r\n",
    "            b = mid\r\n",
    "        elif f(mid) * f(b) <= 0:  # sign change on [mid, b]\r\n",
    "            a = mid\r\n",
    "    \r\n",
    "    return mid\r\n",
    "\r\n",
    "first = find_root(1, 2, 0.0001, lambda x: x * x - 2)\r\n",
    "real = 2 ** 0.5\r\n",
    "print(real - first)  # very small difference\r\n",
    "print(1e-5)\r\n",
    "\r\n"
   ],
   "outputs": [
    {
     "output_type": "stream",
     "name": "stdout",
     "text": [
      "-3.2043095654854525e-05\n",
      "1e-05\n"
     ]
    }
   ],
   "metadata": {}
  },
  {
   "cell_type": "code",
   "execution_count": 1,
   "source": [
    "# O(n)\r\n",
    "# def smallest_factor(n: int):\r\n",
    "    \r\n",
    "#     n = abs(n)\r\n",
    "    \r\n",
    "#     if n == 1:\r\n",
    "#         return 1\r\n",
    "    \r\n",
    "#     factors = [x for x in range(1, n + 1) if n % x == 0]\r\n",
    "    \r\n",
    "#     return min(filter(lambda x: x >= 2, factors))\r\n",
    "\r\n",
    "# O(sqrt(n))\r\n",
    "def smallest_factor(n: int):\r\n",
    "    n = abs(n)\r\n",
    "    \r\n",
    "    if n in [1, 2]:\r\n",
    "        return n\r\n",
    "    \r\n",
    "    factor = 2\r\n",
    "    while n % factor > 0 and factor ** 2 <= n:\r\n",
    "        factor += 1\r\n",
    "        \r\n",
    "    return factor if factor ** 2 <= n else n\r\n",
    "\r\n",
    "\r\n",
    "def prime_factorization(n: int):\r\n",
    "    n = abs(n)\r\n",
    "    if n == 1:\r\n",
    "        return []\r\n",
    "    if smallest_factor(n) == n:\r\n",
    "        return [n]\r\n",
    "        \r\n",
    "    d = smallest_factor(n)\r\n",
    "    a = [d] + prime_factorization(n//d)\r\n",
    "    while n > 1:\r\n",
    "        d = smallest_factor(d)\r\n",
    "    \r\n",
    "    return a\r\n",
    "\r\n",
    "x = prime_factorization(8)\r\n",
    "print(dict(zip(x, [x.count(y) for y in x])))"
   ],
   "outputs": [],
   "metadata": {}
  }
 ],
 "metadata": {
  "orig_nbformat": 4,
  "language_info": {
   "name": "python",
   "version": "3.9.7",
   "mimetype": "text/x-python",
   "codemirror_mode": {
    "name": "ipython",
    "version": 3
   },
   "pygments_lexer": "ipython3",
   "nbconvert_exporter": "python",
   "file_extension": ".py"
  },
  "kernelspec": {
   "name": "python3",
   "display_name": "Python 3.9.7 64-bit"
  },
  "interpreter": {
   "hash": "57990f1ad2ea89c67ddae7f31d40c478205c5912da0fccfb7c5cfbb2b8bf17ad"
  }
 },
 "nbformat": 4,
 "nbformat_minor": 2
}