{
 "cells": [
  {
   "cell_type": "markdown",
   "source": [
    "# Base Power functions using Divide and Conquer\r\n"
   ],
   "metadata": {}
  },
  {
   "cell_type": "code",
   "execution_count": 2,
   "source": [
    "# Recursive power function using divide & conquer\r\n",
    "def power_rec(base, exp):\r\n",
    "    \"\"\"prec:  base is a number, exp is an integer\r\n",
    "    postc: retuerns base**exp using a recursive version of the \r\n",
    "    divide and conquer power algorithm\"\"\"  \r\n",
    "    if exp == 0:\r\n",
    "        return 1\r\n",
    "    \r\n",
    "    base, exp = (1/base, abs(exp)) if exp < 0 else (base, exp)\r\n",
    "        \r\n",
    "    # return base * power_rec(base, exp - 1)\r\n",
    "    \r\n",
    "    if not exp % 2:\r\n",
    "        return power_rec(base * base, exp / 2)\r\n",
    "    else:\r\n",
    "        return base * power_rec(base, exp - 1)\r\n",
    "\r\n",
    "print(f'{power_rec(2, 4) = }')"
   ],
   "outputs": [
    {
     "output_type": "stream",
     "name": "stdout",
     "text": [
      "power_rec(2, 4) = 16\n"
     ]
    }
   ],
   "metadata": {}
  },
  {
   "cell_type": "code",
   "execution_count": 1,
   "source": [
    "\r\n",
    "# iterative power using divide and conquer\r\n",
    "def power_iter(x, b):\r\n",
    "    \"\"\"prec:se is a number, exp is an integer\r\n",
    "    postc: returns base**exp using an itearative version of the \r\n",
    "    divide and conquer power algorithm\"\"\"  \r\n",
    "    x, b = (1/x, abs(b)) if b < 0 else (x, b)    \r\n",
    "        \r\n",
    "    out = 1\r\n",
    "\r\n",
    "    while b > 0:\r\n",
    "        if b % 2 == 0:\r\n",
    "            x *= x\r\n",
    "            b /= 2\r\n",
    "        else:\r\n",
    "            out *= x\r\n",
    "            b -= 1\r\n",
    "\r\n",
    "    return out\r\n",
    "\r\n",
    "print(f'{power_iter(2, 4) = }')"
   ],
   "outputs": [
    {
     "output_type": "stream",
     "name": "stdout",
     "text": [
      "power_iter(2, 4) = 16\n"
     ]
    }
   ],
   "metadata": {}
  }
 ],
 "metadata": {
  "orig_nbformat": 4,
  "language_info": {
   "name": "python",
   "version": "3.9.7",
   "mimetype": "text/x-python",
   "codemirror_mode": {
    "name": "ipython",
    "version": 3
   },
   "pygments_lexer": "ipython3",
   "nbconvert_exporter": "python",
   "file_extension": ".py"
  },
  "kernelspec": {
   "name": "python3",
   "display_name": "Python 3.9.7 64-bit"
  },
  "interpreter": {
   "hash": "57990f1ad2ea89c67ddae7f31d40c478205c5912da0fccfb7c5cfbb2b8bf17ad"
  }
 },
 "nbformat": 4,
 "nbformat_minor": 2
}